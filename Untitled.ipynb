{
 "cells": [
  {
   "cell_type": "code",
   "execution_count": 22,
   "id": "031037ac",
   "metadata": {},
   "outputs": [],
   "source": [
    "class BankAccount:\n",
    "    def __init__(self, name, balance = 0):\n",
    "        self.name = name\n",
    "        self.balance = balance\n",
    "        \n",
    "    def display(self):\n",
    "        print(self.name, self.balance)\n",
    "        \n",
    "    def withdraw(self, amount):\n",
    "        self.balance -= amount\n",
    "        \n",
    "    def deposit(self, amount):\n",
    "        self.balance += amount"
   ]
  },
  {
   "cell_type": "code",
   "execution_count": 3,
   "id": "c6d5bab3",
   "metadata": {},
   "outputs": [],
   "source": [
    "class Book:\n",
    "    def __init__(self,isbn, title, author, publisher, pages, price, copies):\n",
    "        self.isbn = isbn\n",
    "        self.title = title\n",
    "        self.author = author\n",
    "        self.publisher = publisher\n",
    "        self.pages = pages\n",
    "        self.price = price\n",
    "        self.copies= copies\n",
    "        \n",
    "    def display(self):\n",
    "        print(self.isbn,  self.isbn, self.title, self.author, self.publisher, self.pages, self.price, self.copies)\n",
    "        \n",
    "    def in_stock(self):\n",
    "        if self.copies > 0:\n",
    "            return True\n",
    "        else:\n",
    "            return False\n",
    "    \n",
    "    def sell(self):\n",
    "        if in_stock == True:\n",
    "            self.copies -= 1\n",
    "        else:\n",
    "            print('Book is out of stock')\n",
    "            \n",
    "    @property\n",
    "    def price(self):\n",
    "        return self.price\n",
    "    @price.setter\n",
    "    def price(self, new_price):\n",
    "        if 50 < new_price < 1000:\n",
    "            self.price = new_price\n",
    "        else:\n",
    "            raise ValueError('Price not acceptable')\n",
    "    "
   ]
  },
  {
   "cell_type": "code",
   "execution_count": null,
   "id": "615f6e64",
   "metadata": {},
   "outputs": [],
   "source": [
    "book1 = Book('957-4-36-547417-1', 'Learn Physics','Stephen', 'CBC', 350, 200,10)\n",
    "book2 = Book('652-6-86-748413-3', 'Learn Chemistry','Jack', 'CBC', 400, 220,20)\n",
    "book3 = Book('957-7-39-347216-2', 'Learn Maths','John', 'XYZ', 500, 300,5)\n",
    "book4 = Book('957-7-39-347216-2', 'Learn Biology','Jack', 'XYZ', 400, 200,6)"
   ]
  },
  {
   "cell_type": "code",
   "execution_count": null,
   "id": "93d61bd7",
   "metadata": {},
   "outputs": [],
   "source": [
    "books = [book1, book2, book3, book4]\n",
    "books_by_jack = []\n",
    "\n",
    "for book in books:\n",
    "    book.display()\n",
    "    \n",
    "    if book.title == 'Jack':\n",
    "        books_by_jack.append(book.title)\n"
   ]
  },
  {
   "cell_type": "code",
   "execution_count": null,
   "id": "5adb0537",
   "metadata": {},
   "outputs": [],
   "source": [
    "books_by_jack"
   ]
  },
  {
   "cell_type": "code",
   "execution_count": null,
   "id": "ac3276ca",
   "metadata": {},
   "outputs": [],
   "source": []
  },
  {
   "cell_type": "code",
   "execution_count": 1,
   "id": "7dd87ac2",
   "metadata": {},
   "outputs": [],
   "source": [
    "class Fraction:\n",
    "    def __init__(self, nr, dr = 1):\n",
    "        self.nr = nr\n",
    "        self.dr = abs(dr)\n",
    "        \n",
    "    def show(self):\n",
    "        print('{}/{}'.format(self.nr, self.dr))\n",
    "        \n",
    "#     def muplitply(self, val):\n",
    "        "
   ]
  },
  {
   "cell_type": "code",
   "execution_count": null,
   "id": "cd110e19",
   "metadata": {},
   "outputs": [],
   "source": []
  },
  {
   "cell_type": "code",
   "execution_count": 2,
   "id": "f3d1f921",
   "metadata": {},
   "outputs": [
    {
     "name": "stdout",
     "output_type": "stream",
     "text": [
      "..................................................\n"
     ]
    }
   ],
   "source": [
    " print('.' * 50)"
   ]
  },
  {
   "cell_type": "code",
   "execution_count": null,
   "id": "9d0cfdf0",
   "metadata": {},
   "outputs": [],
   "source": []
  },
  {
   "cell_type": "code",
   "execution_count": null,
   "id": "75ef84ea",
   "metadata": {},
   "outputs": [],
   "source": []
  },
  {
   "cell_type": "code",
   "execution_count": null,
   "id": "02c134c9",
   "metadata": {},
   "outputs": [],
   "source": [
    "class Product():\n",
    "    def __init__(self, id, marked_price, discount):\n",
    "        self.id = id\n",
    "        self.marked_price = marked_price\n",
    "        self.discount = discount\n",
    "    \n",
    "    def display(self):\n",
    "        print(self.id,  self.marked_price,  self.discount)\n",
    "        \n",
    "    @property\n",
    "    def selling_price(self):\n",
    "        return (self.marked_price - self.discount)\n",
    "    \n",
    "    @property\n",
    "    def discount(self):\n",
    "        return self.discount()\n",
    "    \n",
    "    @discount.setter\n",
    "    def discount(self, new_discount):\n",
    "        self.discount = new_discount\n",
    "    \n",
    "p1 = Product('X879', 400, 6)\n",
    "p2 = Product('A234', 100, 5)\n",
    "p3 = Product('B987', 990, 4)\n",
    "p4 = Product('H456', 800, 6)"
   ]
  },
  {
   "cell_type": "code",
   "execution_count": 3,
   "id": "fd4eb1c2",
   "metadata": {},
   "outputs": [
    {
     "data": {
      "text/plain": [
       "3.141592653589793"
      ]
     },
     "execution_count": 3,
     "metadata": {},
     "output_type": "execute_result"
    }
   ],
   "source": [
    "import math as m\n",
    "m.pi"
   ]
  },
  {
   "cell_type": "code",
   "execution_count": null,
   "id": "7b0f7c70",
   "metadata": {},
   "outputs": [],
   "source": []
  },
  {
   "cell_type": "code",
   "execution_count": null,
   "id": "201ce3a3",
   "metadata": {},
   "outputs": [],
   "source": [
    "class Circle:\n",
    "    def __init__(self, radius):\n",
    "        self.radius = radius\n",
    "        \n",
    "    def area(self):\n",
    "        return 3.14 * (self.radius)**2\n",
    "    \n",
    "    @property\n",
    "    def radius(self):\n",
    "        if self.radius < 0:\n",
    "            raise ValueError('Radius can not be negative')\n",
    "            \n",
    "    @radius.setter\n",
    "    def radius(self, new_radius):\n",
    "        self.radius = new_radius\n",
    "    \n",
    "    @property\n",
    "    def diameter(self):\n",
    "        return 2*self.radius\n",
    "        \n",
    "    @property\n",
    "    def circumference(self):\n",
    "        return 2*3.14*self.radius\n",
    "    \n",
    "    \n",
    "c1 = Circle(-5)"
   ]
  },
  {
   "cell_type": "code",
   "execution_count": null,
   "id": "7b43e612",
   "metadata": {},
   "outputs": [],
   "source": []
  },
  {
   "cell_type": "code",
   "execution_count": null,
   "id": "746a4947",
   "metadata": {},
   "outputs": [],
   "source": []
  }
 ],
 "metadata": {
  "kernelspec": {
   "display_name": "Python 3 (ipykernel)",
   "language": "python",
   "name": "python3"
  },
  "language_info": {
   "codemirror_mode": {
    "name": "ipython",
    "version": 3
   },
   "file_extension": ".py",
   "mimetype": "text/x-python",
   "name": "python",
   "nbconvert_exporter": "python",
   "pygments_lexer": "ipython3",
   "version": "3.9.7"
  }
 },
 "nbformat": 4,
 "nbformat_minor": 5
}
